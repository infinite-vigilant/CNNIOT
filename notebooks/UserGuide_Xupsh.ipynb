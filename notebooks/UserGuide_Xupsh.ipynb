{
 "cells": [
  {
   "cell_type": "markdown",
   "metadata": {},
   "source": [
    "# 在PYNQ上加速卷积神经网络——以手写数字识别为例"
   ]
  },
  {
   "cell_type": "markdown",
   "metadata": {},
   "source": [
    "CNN_IOT是python中的一个轻量级深度学习框架，用于在IOT设备中运行卷积神经网络。<br>\n",
    "\n",
    "此框架支持CNN的主要功能 包括：\n",
    "\n",
    "* 卷积层(Convolutional Layer)\n",
    "* 池化层(Pooling Layer)\n",
    "* 全连接层(Fully connected layer) \n",
    "\n",
    "本UserGuide将由Lenet-5网络模型为例，通过已经训练好的参数进行手写数字识别并且对比FPGA-CPU的性能差异"
   ]
  },
  {
   "cell_type": "markdown",
   "metadata": {},
   "source": [
    "### 步骤1：加载相关库"
   ]
  },
  {
   "cell_type": "code",
   "execution_count": 1,
   "metadata": {},
   "outputs": [
    {
     "data": {
      "application/javascript": [
       "\n",
       "require(['notebook/js/codecell'], function(codecell) {\n",
       "  codecell.CodeCell.options_default.highlight_modes[\n",
       "      'magic_text/x-csrc'] = {'reg':[/^%%microblaze/]};\n",
       "  Jupyter.notebook.events.one('kernel_ready.Kernel', function(){\n",
       "      Jupyter.notebook.get_cells().map(function(cell){\n",
       "          if (cell.cell_type == 'code'){ cell.auto_highlight(); } }) ;\n",
       "  });\n",
       "});\n"
      ]
     },
     "metadata": {},
     "output_type": "display_data"
    }
   ],
   "source": [
    "import time\n",
    "import numpy as np\n",
    "import CNNIOT\n",
    "from PIL import Image"
   ]
  },
  {
   "cell_type": "markdown",
   "metadata": {},
   "source": [
    "### 步骤2：读取卷积神经网络参数"
   ]
  },
  {
   "cell_type": "markdown",
   "metadata": {},
   "source": [
    "注：此处采用mnist手写数字识别数据集"
   ]
  },
  {
   "cell_type": "code",
   "execution_count": 2,
   "metadata": {
    "collapsed": true
   },
   "outputs": [],
   "source": [
    "conv1_w=np.load('data/LeNet-weights/Conv1_weight.np.npy')\n",
    "conv1_b=np.load('data/LeNet-weights/Conv1_bias.np.npy')\n",
    "conv2_w=np.load('data/LeNet-weights/Conv2_weight.np.npy')\n",
    "conv2_b=np.load('data/LeNet-weights/Conv2_bias.np.npy')\n",
    "f1_w=np.load('data/LeNet-weights/fc1_weight.np.npy')\n",
    "f2_w=np.load('data/LeNet-weights/fc2_weight.np.npy')\n",
    "f1_b=np.load('data/LeNet-weights/fc1_bias.np.npy')\n",
    "f2_b=np.load('data/LeNet-weights/fc2_bias.np.npy')\n",
    "data=np.load('data/Mnist/mnist_data.npy')\n",
    "target1=np.load('data/Mnist/mnist_label.npy')"
   ]
  },
  {
   "cell_type": "markdown",
   "metadata": {},
   "source": [
    "### 步骤3：定义卷积神经网络结构并加载神经网络参数"
   ]
  },
  {
   "cell_type": "markdown",
   "metadata": {},
   "source": [
    "![avatar](data/LeNet-5.png)"
   ]
  },
  {
   "cell_type": "markdown",
   "metadata": {},
   "source": [
    "上图为Lenet-5的网络模型结构，Lenet-5网络模型主要分为以下几个部分：\n",
    "* C1(Convolutional Layer1) 卷积层1\n",
    "* S2(Subsampling Layer2) &nbsp;下采样层2 \n",
    "* C3(Convolutional Layer1) 卷积层3\n",
    "* S4(Subsampling Layer4) &nbsp;下采样层4 <br>\n",
    "\n",
    "\n",
    "\n",
    "注：S2与S4都是采用最大池化进行下采样，因此只定义一个通用的池化层pool1"
   ]
  },
  {
   "cell_type": "code",
   "execution_count": 3,
   "metadata": {
    "collapsed": true
   },
   "outputs": [],
   "source": [
    "conv1=CNNIOT.Convolution2D(1,10,5,5,1,1,0,0,conv1_w,conv1_b,1000000)\n",
    "conv2=CNNIOT.Convolution2D(10,20,5,5,1,1,0,0,conv2_w,conv2_b,1000000)\n",
    "pool1=CNNIOT.Pool(2,2,2,2,'Max',0,1,10000)\n",
    "fc1=CNNIOT.FC(320,50,1,f1_w,f1_b)\n",
    "fc2=CNNIOT.FC(50,10,1,f2_w,f2_b)"
   ]
  },
  {
   "cell_type": "markdown",
   "metadata": {},
   "source": [
    "### 步骤4：定义训练过程中的参数"
   ]
  },
  {
   "cell_type": "code",
   "execution_count": 4,
   "metadata": {
    "collapsed": true
   },
   "outputs": [],
   "source": [
    "total = 0\n",
    "correct = 0\n",
    "data2 = data[0:300]\n",
    "target=target1[0:300]\n",
    "size = data2.shape"
   ]
  },
  {
   "cell_type": "markdown",
   "metadata": {},
   "source": [
    "### 步骤5：在PL端部署LeNet-5网络模型"
   ]
  },
  {
   "cell_type": "code",
   "execution_count": 5,
   "metadata": {
    "collapsed": true
   },
   "outputs": [],
   "source": [
    "def test_PL(testnumber):\n",
    "    total = 0\n",
    "    correct = 0\n",
    "    data2 = data[0:testnumber]\n",
    "    target=target1[0:testnumber]\n",
    "    size = data2.shape\n",
    "    t1=time.time()\n",
    "    rs = np.zeros((size[0],10))\n",
    "    for i0 in range(0, size[0]):\n",
    "        x=conv1.forward(data2[i0],CNNIOT.dma)\n",
    "        x= pool1.forward(x,CNNIOT.dma)\n",
    "        x=conv2.forward(x,CNNIOT.dma)\n",
    "        x= pool1.forward(x,CNNIOT.dma)\n",
    "        x=fc1.forward(x,CNNIOT.dma)\n",
    "        rs[i0]=fc2.forward(x,CNNIOT.dma)\n",
    "\n",
    "    for i in range(0, size[0]):\n",
    "        if np.argmax(rs[i])==target[i]:\n",
    "#             print(np.argmax(rs[i]),target[i])\n",
    "            correct+=1\n",
    "        total+=1\n",
    "    t2=time.time()\n",
    "    print ('accuracy on PL =',float(correct)/float(total))\n",
    "    print('Inference Time on PL:',t2-t1)    "
   ]
  },
  {
   "cell_type": "markdown",
   "metadata": {},
   "source": [
    "### 步骤6：在PS端部署LeNet-5网络模型"
   ]
  },
  {
   "cell_type": "code",
   "execution_count": 6,
   "metadata": {
    "collapsed": true
   },
   "outputs": [],
   "source": [
    "def test_PS(testnumber):        \n",
    "        total = 0\n",
    "        correct = 0\n",
    "        data2 = data[0:testnumber]\n",
    "        target=target1[0:testnumber]\n",
    "        size = data2.shape\n",
    "        t1=time.time()\n",
    "        #CONV1 (10,5,5)\n",
    "        rs = np.zeros((size[0], 10, 24, 24))\n",
    "        for i0 in range(0, size[0]):\n",
    "            for i in range(0, 10):\n",
    "                for i1 in range(0, 24):\n",
    "                    for i2 in range(0, 24):\n",
    "                        tmp = data2[i0, 0, i1:i1 + 5, i2:i2 + 5]\n",
    "                        rs[i0][i][i1][i2] = np.sum(np.multiply(tmp, conv1_w[i])) + conv1_b[i]\n",
    "        #POOLING\n",
    "        rs2 = np.zeros((size[0], 10, 12, 12))\n",
    "        for i0 in range(0, size[0]):\n",
    "            for i in range(0, 10):\n",
    "                i1=0\n",
    "                while i1<24:\n",
    "                    i2=0\n",
    "                    while i2<24:\n",
    "                        tmp = rs[i0, i, i1:i1 + 2, i2:i2 + 2]\n",
    "                        tmp=np.max(tmp)\n",
    "        #RELU\n",
    "                        if tmp>0:\n",
    "                            rs2[i0][i][int(i1/2)][int(i2/2)] =tmp\n",
    "                        i2+=2\n",
    "                    i1+=2\n",
    "        #conv2 (20,5,5)\n",
    "        rs = np.zeros((size[0], 20, 8, 8))\n",
    "        for i0 in range(0, size[0]):\n",
    "            for i in range(0, 20):\n",
    "                for i1 in range(0, 8):\n",
    "                    for i2 in range(0, 8):\n",
    "                        tmp = rs2[i0,:, i1:i1 + 5, i2:i2 + 5]\n",
    "                        rs[i0][i][i1][i2] = np.sum(np.multiply(tmp, conv2_w[i])) + conv2_b[i]\n",
    "        #POOLING\n",
    "        rs2 = np.zeros((size[0], 20, 4, 4))\n",
    "        for i0 in range(0, size[0]):\n",
    "            for i in range(0, 20):\n",
    "                i1=0\n",
    "                while i1<8:\n",
    "                    i2=0\n",
    "                    while i2<8:\n",
    "                        tmp = rs[i0, i, i1:i1 + 2, i2:i2 + 2]\n",
    "                        tmp=np.max(tmp)\n",
    "        #Relu\n",
    "                        if tmp>0:\n",
    "                            rs2[i0][i][int(i1/2)][int(i2/2)] =tmp\n",
    "                        i2+=2\n",
    "                    i1+=2\n",
    "        #Flatteren\n",
    "        rs = np.zeros((size[0],320))\n",
    "        #FC1 320 --->50\n",
    "        for i0 in range(0, size[0]):\n",
    "            tmp=rs2[i0]\n",
    "            rs[i0]=tmp.flatten()\n",
    "        rs2 = np.zeros((size[0], 50))\n",
    "        for i0 in range(0,size[0]):\n",
    "            tmp=rs[i0]\n",
    "            tmp=np.add(np.dot(f1_w, tmp), f1_b)\n",
    "            for i in range(0,50):\n",
    "        #RELU\n",
    "                if tmp[i]>0:\n",
    "                    rs2[i0][i]=tmp[i]\n",
    "        #FC2 50 ---> 10\n",
    "        rs = np.zeros((size[0], 10))\n",
    "        for i0 in range(0,size[0]):\n",
    "            tmp=rs2[i0]\n",
    "            rs[i0]=np.add(np.dot(f2_w, tmp), f2_b)\n",
    "        # LOG SOFTMAX\n",
    "        rs=rs\n",
    "        for i in range(0, size[0]):\n",
    "            if np.argmax(rs[i])==target[i]:\n",
    "                #print(np.argmax(rs[i]),target[i])\n",
    "                correct+=1\n",
    "            total+=1\n",
    "        t2=time.time()\n",
    "        print ('accuracy on PS=',float(correct)/float(total))\n",
    "        print('Inference Time on PS:',t2-t1)"
   ]
  },
  {
   "cell_type": "markdown",
   "metadata": {},
   "source": [
    "### 步骤7：运行PS与PL端的模型，比较运行时间"
   ]
  },
  {
   "cell_type": "code",
   "execution_count": 7,
   "metadata": {},
   "outputs": [
    {
     "name": "stdout",
     "output_type": "stream",
     "text": [
      "accuracy on PL = 1.0\n",
      "Inference Time on PL: 1.5262606143951416\n",
      "accuracy on PS= 1.0\n",
      "Inference Time on PS: 13.270404815673828\n"
     ]
    }
   ],
   "source": [
    "test_PL(10)\n",
    "test_PS(10)"
   ]
  },
  {
   "cell_type": "markdown",
   "metadata": {},
   "source": [
    "## 附录1：CNN_IOT各模块的使用方法"
   ]
  },
  {
   "cell_type": "markdown",
   "metadata": {},
   "source": [
    "### 卷积层(Convolution2D)的使用方法<br>\n",
    "1.设置卷积层参数并将训练好的模型权重读入\n",
    "```python\n",
    "    conv = CNNIOT.Convolution2D(In.Planes, Out.Planes, Filter.H,\n",
    "                                Filter.W ,Stride.H, Stride.W, \n",
    "                                Padding,Relu,Weight, Bias,Precision)\n",
    "```\n",
    "\n",
    "2.设置前向传播通道输出卷积结果\n",
    "```python\n",
    "    Output = Conv.forward(data,CNNIOT.dma,Load.Input)\n",
    "```\n",
    "3.各参数含义\n",
    "* In.Planes: 输入张量的通道数\n",
    "* Out.Planes: 输出张量的通道数\n",
    "* Filter.H & Filter.W: 设置卷积核的大小\n",
    "* Stride size: 设置卷积核的步长\n",
    "* Padding: 设置填充的张量\n",
    "* Relu: 设置激活函数（如果为1，那么会添加激活函数）\n",
    "* Weight: 从训练好的模型中读取权重\n",
    "* Bias: 从训练好的模型中读取偏置\n",
    "* precision: 设置输入输出的精度\n",
    "* Input data: 输入的张量\n",
    "* CNNIOT.dma: 可选择默认的bit流中的dma或者自定义dma"
   ]
  },
  {
   "cell_type": "markdown",
   "metadata": {},
   "source": [
    "### 池化层(Pool)的使用方法<br>\n",
    "1.设置池化层参数\n",
    "```python\n",
    "    pool = CNNIOT.Pool(P.H,P.W,S.H,S.W,Pooling,Padding,Relu,Precision)\n",
    "\n",
    "```\n",
    "\n",
    "2.设置前向传播通道输出池化结果\n",
    "```python\n",
    "    Output= pool.forward(data,CNNIOT.dma)\n",
    "```\n",
    "3.各参数含义\n",
    "* Input data:输入的张量\n",
    "* Window size: 设置池化窗口大小\n",
    "* Stride size: 设置池化步长大小\n",
    "* Pooling: 设置池化模式（可选择最大池化/平均池化）\n",
    "* Relu: 设置激活函数模式（如果为1，那么会添加激活函数）\n",
    "* Padding:设置填充的张量\n",
    "* precision: 设置输入输出的精度\n",
    "* CNNIOT.dma: 可选择默认的bit流中的dma或者自定义dma"
   ]
  },
  {
   "cell_type": "markdown",
   "metadata": {},
   "source": [
    "### 全连接层(Fully Connected Layer)的使用方法<br>\n",
    "1.设置全连接层参数\n",
    "```python\n",
    "    FC = CNNIOT.FC(Input Size,Output Size,Relu,Weight,Bias,precision)\n",
    "\n",
    "```\n",
    "\n",
    "2.设置前向传播通道全连接结果\n",
    "```python\n",
    "    Output = FC.forward(data,CNNIOT.dma)\n",
    "```\n",
    "3.各参数含义\n",
    "* Input Size: 输入全连接层的维度\n",
    "* Output Size: 全连接层输出的维度\n",
    "* Relu: 设置激活函数模式（如果为1，那么会添加激活函数）\n",
    "* Weight: 从训练好的模型中读取权重\n",
    "* Bias: 从训练好的模型中读取偏置\n",
    "* precision: 设置输入输出的精度\n",
    "* CNNIOT.dma: 可选择默认的bit流中的dma或者自定义dma"
   ]
  },
  {
   "cell_type": "markdown",
   "metadata": {},
   "source": [
    "## 附录2：使用自定义图片进行识别"
   ]
  },
  {
   "cell_type": "markdown",
   "metadata": {},
   "source": [
    "### 步骤一：加载自定义图片并以npy格式存为数据"
   ]
  },
  {
   "cell_type": "code",
   "execution_count": 8,
   "metadata": {},
   "outputs": [
    {
     "data": {
      "image/png": "[encoded data removed]",
      "text/plain": [
       "<PIL.Image.Image image mode=L size=28x28 at 0x3015FC90>"
      ]
     },
     "execution_count": 8,
     "metadata": {},
     "output_type": "execute_result"
    }
   ],
   "source": [
    "# 3.png由自己上传\n",
    "pic = Image.open('./3.png')\n",
    "pic1 = pic.convert(\"L\")\n",
    "np_pic = np.array(pic1)\n",
    "np_pic = np_pic[np.newaxis,:,:]\n",
    "np.save('./pic',np_pic)\n",
    "pic1"
   ]
  },
  {
   "cell_type": "markdown",
   "metadata": {},
   "source": [
    "### 步骤2：读取卷积神经网络参数"
   ]
  },
  {
   "cell_type": "markdown",
   "metadata": {},
   "source": [
    "注：此处的数据读入应使用自定义图片生成的数据"
   ]
  },
  {
   "cell_type": "code",
   "execution_count": 9,
   "metadata": {
    "collapsed": true
   },
   "outputs": [],
   "source": [
    "data=np.load('./pic.npy')"
   ]
  },
  {
   "cell_type": "markdown",
   "metadata": {},
   "source": [
    "### 步骤3：定义卷积神经网络结构并加载神经网络参数"
   ]
  },
  {
   "cell_type": "code",
   "execution_count": 10,
   "metadata": {
    "collapsed": true
   },
   "outputs": [],
   "source": [
    "conv1=CNNIOT.Convolution2D(1,10,5,5,1,1,0,0,conv1_w,conv1_b,1000000)\n",
    "conv2=CNNIOT.Convolution2D(10,20,5,5,1,1,0,0,conv2_w,conv2_b,1000000)\n",
    "pool1=CNNIOT.Pool(2,2,2,2,'Max',0,1,10000)\n",
    "fc1=CNNIOT.FC(320,50,1,f1_w,f1_b)\n",
    "fc2=CNNIOT.FC(50,10,1,f2_w,f2_b)"
   ]
  },
  {
   "cell_type": "markdown",
   "metadata": {},
   "source": [
    "### 步骤4：在PL端部署前向传播通道网络"
   ]
  },
  {
   "cell_type": "code",
   "execution_count": 11,
   "metadata": {
    "collapsed": true
   },
   "outputs": [],
   "source": [
    "x=conv1.forward(data,CNNIOT.dma)\n",
    "x= pool1.forward(x,CNNIOT.dma)\n",
    "x=conv2.forward(x,CNNIOT.dma)\n",
    "x= pool1.forward(x,CNNIOT.dma)\n",
    "x=fc1.forward(x,CNNIOT.dma)\n",
    "rs=fc2.forward(x,CNNIOT.dma)"
   ]
  },
  {
   "cell_type": "markdown",
   "metadata": {},
   "source": [
    "### 步骤5：输出识别结果"
   ]
  },
  {
   "cell_type": "code",
   "execution_count": 12,
   "metadata": {},
   "outputs": [
    {
     "name": "stdout",
     "output_type": "stream",
     "text": [
      "Predition Number: 3\n"
     ]
    }
   ],
   "source": [
    "print(\"Predition Number:\",np.argmax(rs))"
   ]
  }
 ],
 "metadata": {
  "kernelspec": {
   "display_name": "Python 3",
   "language": "python",
   "name": "python3"
  },
  "language_info": {
   "codemirror_mode": {
    "name": "ipython",
    "version": 3
   },
   "file_extension": ".py",
   "mimetype": "text/x-python",
   "name": "python",
   "nbconvert_exporter": "python",
   "pygments_lexer": "ipython3",
   "version": "3.6.0"
  }
 },
 "nbformat": 4,
 "nbformat_minor": 2
}
